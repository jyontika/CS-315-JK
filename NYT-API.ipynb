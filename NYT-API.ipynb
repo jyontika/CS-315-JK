{
 "cells": [
  {
   "cell_type": "markdown",
   "metadata": {},
   "source": [
    "### Short NYT API Notebook \n",
    "#### @author: Jyontika Kapoor\n",
    "Using Python to get articles, did not include my API Key when pushed to git."
   ]
  },
  {
   "cell_type": "code",
   "execution_count": 2,
   "metadata": {},
   "outputs": [],
   "source": [
    "import requests"
   ]
  },
  {
   "cell_type": "code",
   "execution_count": 4,
   "metadata": {},
   "outputs": [],
   "source": [
    "month = 2\n",
    "year = 2024\n",
    "\n",
    "\n",
    "URL = f\"https://api.nytimes.com/svc/archive/v1/{year}/{month}.json?api-key={APIkey}\""
   ]
  },
  {
   "cell_type": "code",
   "execution_count": 6,
   "metadata": {},
   "outputs": [
    {
     "data": {
      "text/plain": [
       "200"
      ]
     },
     "execution_count": 6,
     "metadata": {},
     "output_type": "execute_result"
    }
   ],
   "source": [
    "d = requests.get(URL)\n",
    "d.status_code #should get 200"
   ]
  },
  {
   "cell_type": "code",
   "execution_count": 13,
   "metadata": {},
   "outputs": [
    {
     "data": {
      "text/plain": [
       "2"
      ]
     },
     "execution_count": 13,
     "metadata": {},
     "output_type": "execute_result"
    }
   ],
   "source": [
    "articles = d.json()\n",
    "len(articles)"
   ]
  },
  {
   "cell_type": "code",
   "execution_count": 10,
   "metadata": {},
   "outputs": [
    {
     "data": {
      "text/plain": [
       "dict_keys(['copyright', 'response'])"
      ]
     },
     "execution_count": 10,
     "metadata": {},
     "output_type": "execute_result"
    }
   ],
   "source": [
    "articles.keys()"
   ]
  },
  {
   "cell_type": "code",
   "execution_count": 17,
   "metadata": {},
   "outputs": [
    {
     "name": "stdout",
     "output_type": "stream",
     "text": [
      "3791\n"
     ]
    }
   ],
   "source": [
    "hits = articles['response']['meta']['hits']\n",
    "print(hits)"
   ]
  },
  {
   "cell_type": "markdown",
   "metadata": {},
   "source": [
    "#### Looking at one article"
   ]
  },
  {
   "cell_type": "code",
   "execution_count": 20,
   "metadata": {},
   "outputs": [
    {
     "data": {
      "text/plain": [
       "{'abstract': 'She’s not running against Trump. She’s using him to launder her image.',\n",
       " 'web_url': 'https://www.nytimes.com/2024/02/29/opinion/nikki-haley-trump-election.html',\n",
       " 'snippet': 'She’s not running against Trump. She’s using him to launder her image.',\n",
       " 'lead_paragraph': 'In her make-believe quest for the Grand Old Party’s presidential nomination, Nikki Haley seems to be having a grand old time. Sure, she lost Michigan on Tuesday and her home state of South Carolina last week and Nevada even though Donald Trump wasn’t on the ballot — that was some fluke of electoral physics — but none of that matters in relation to what Haley has been up to since the death knell of her defeat in the New Hampshire primary. Since before then, perhaps.',\n",
       " 'source': 'The New York Times',\n",
       " 'multimedia': [{'rank': 0,\n",
       "   'subtype': 'xlarge',\n",
       "   'caption': None,\n",
       "   'credit': None,\n",
       "   'type': 'image',\n",
       "   'url': 'images/2024/02/29/opinion/29bruni-newsletter-art/29bruni-newsletter-art-articleLarge.jpg',\n",
       "   'height': 600,\n",
       "   'width': 600,\n",
       "   'subType': 'xlarge',\n",
       "   'crop_name': 'articleLarge',\n",
       "   'legacy': {'xlarge': 'images/2024/02/29/opinion/29bruni-newsletter-art/29bruni-newsletter-art-articleLarge.jpg',\n",
       "    'xlargewidth': 600,\n",
       "    'xlargeheight': 600}},\n",
       "  {'rank': 0,\n",
       "   'subtype': 'jumbo',\n",
       "   'caption': None,\n",
       "   'credit': None,\n",
       "   'type': 'image',\n",
       "   'url': 'images/2024/02/29/opinion/29bruni-newsletter-art/29bruni-newsletter-art-jumbo.jpg',\n",
       "   'height': 1024,\n",
       "   'width': 1024,\n",
       "   'subType': 'jumbo',\n",
       "   'crop_name': 'jumbo',\n",
       "   'legacy': {}},\n",
       "  {'rank': 0,\n",
       "   'subtype': 'superJumbo',\n",
       "   'caption': None,\n",
       "   'credit': None,\n",
       "   'type': 'image',\n",
       "   'url': 'images/2024/02/29/opinion/29bruni-newsletter-art/29bruni-newsletter-art-superJumbo.jpg',\n",
       "   'height': 1500,\n",
       "   'width': 1500,\n",
       "   'subType': 'superJumbo',\n",
       "   'crop_name': 'superJumbo',\n",
       "   'legacy': {}},\n",
       "  {'rank': 0,\n",
       "   'subtype': 'thumbnail',\n",
       "   'caption': None,\n",
       "   'credit': None,\n",
       "   'type': 'image',\n",
       "   'url': 'images/2024/02/29/opinion/29bruni-newsletter-art/29bruni-newsletter-art-thumbStandard.jpg',\n",
       "   'height': 75,\n",
       "   'width': 75,\n",
       "   'subType': 'thumbnail',\n",
       "   'crop_name': 'thumbStandard',\n",
       "   'legacy': {'thumbnail': 'images/2024/02/29/opinion/29bruni-newsletter-art/29bruni-newsletter-art-thumbStandard.jpg',\n",
       "    'thumbnailwidth': 75,\n",
       "    'thumbnailheight': 75}},\n",
       "  {'rank': 0,\n",
       "   'subtype': 'thumbLarge',\n",
       "   'caption': None,\n",
       "   'credit': None,\n",
       "   'type': 'image',\n",
       "   'url': 'images/2024/02/29/opinion/29bruni-newsletter-art/29bruni-newsletter-art-thumbLarge.jpg',\n",
       "   'height': 150,\n",
       "   'width': 150,\n",
       "   'subType': 'thumbLarge',\n",
       "   'crop_name': 'thumbLarge',\n",
       "   'legacy': {}}],\n",
       " 'headline': {'main': 'Nikki Haley Is Actually Winning',\n",
       "  'kicker': 'Frank Bruni',\n",
       "  'content_kicker': None,\n",
       "  'print_headline': '',\n",
       "  'name': None,\n",
       "  'seo': None,\n",
       "  'sub': None},\n",
       " 'keywords': [{'name': 'subject',\n",
       "   'value': 'internal-sub-only-nl',\n",
       "   'rank': 1,\n",
       "   'major': 'N'},\n",
       "  {'name': 'subject',\n",
       "   'value': 'Presidential Election of 2024',\n",
       "   'rank': 2,\n",
       "   'major': 'N'},\n",
       "  {'name': 'persons', 'value': 'Haley, Nikki R', 'rank': 3, 'major': 'N'},\n",
       "  {'name': 'persons', 'value': 'Trump, Donald J', 'rank': 4, 'major': 'N'},\n",
       "  {'name': 'organizations',\n",
       "   'value': 'Republican Party',\n",
       "   'rank': 5,\n",
       "   'major': 'N'}],\n",
       " 'pub_date': '2024-02-29T17:00:02+0000',\n",
       " 'document_type': 'article',\n",
       " 'news_desk': 'OpEd',\n",
       " 'section_name': 'Opinion',\n",
       " 'byline': {'original': 'By Frank Bruni',\n",
       "  'person': [{'firstname': 'Frank',\n",
       "    'middlename': None,\n",
       "    'lastname': 'Bruni',\n",
       "    'qualifier': None,\n",
       "    'title': None,\n",
       "    'role': 'reported',\n",
       "    'organization': '',\n",
       "    'rank': 1}],\n",
       "  'organization': None},\n",
       " 'type_of_material': 'Op-Ed',\n",
       " '_id': 'nyt://article/d6a8b53d-9817-51c4-9f71-b26e8f8952a8',\n",
       " 'word_count': 2469,\n",
       " 'uri': 'nyt://article/d6a8b53d-9817-51c4-9f71-b26e8f8952a8'}"
      ]
     },
     "execution_count": 20,
     "metadata": {},
     "output_type": "execute_result"
    }
   ],
   "source": [
    " #the last article \n",
    "\n",
    "articles['response']['docs'][3790]"
   ]
  },
  {
   "cell_type": "markdown",
   "metadata": {},
   "source": [
    "#### Looking at top 5 section names"
   ]
  },
  {
   "cell_type": "code",
   "execution_count": 23,
   "metadata": {},
   "outputs": [],
   "source": [
    "articles_data = articles['response']['docs']\n",
    "\n",
    "# intiialize a dict. to store section name counts\n",
    "section_counts = {}\n"
   ]
  },
  {
   "cell_type": "code",
   "execution_count": 24,
   "metadata": {},
   "outputs": [],
   "source": [
    "# iterate over all articles\n",
    "\n",
    "for article in articles_data:\n",
    "\n",
    "    #put unknown in case the key is not present\n",
    "    section_name = article.get('section_name', 'Unknown')\n",
    "\n",
    "    # update count in dictionary\n",
    "    section_counts[section_name] = section_counts.get(section_name, 0) + 1\n"
   ]
  },
  {
   "cell_type": "code",
   "execution_count": 25,
   "metadata": {},
   "outputs": [
    {
     "name": "stdout",
     "output_type": "stream",
     "text": [
      "Section: U.S., Count: 734\n",
      "Section: World, Count: 513\n",
      "Section: Arts, Count: 326\n",
      "Section: Opinion, Count: 272\n",
      "Section: Business Day, Count: 244\n"
     ]
    }
   ],
   "source": [
    "# get top 5 using the lambda feature\n",
    "top_sections = sorted(section_counts.items(), key=lambda x: x[1], reverse=True)[:5]\n",
    "\n",
    "for section, count in top_sections:\n",
    "    print(f\"Section: {section}, Count: {count}\")"
   ]
  }
 ],
 "metadata": {
  "kernelspec": {
   "display_name": "Python 3",
   "language": "python",
   "name": "python3"
  },
  "language_info": {
   "codemirror_mode": {
    "name": "ipython",
    "version": 3
   },
   "file_extension": ".py",
   "mimetype": "text/x-python",
   "name": "python",
   "nbconvert_exporter": "python",
   "pygments_lexer": "ipython3",
   "version": "3.12.0"
  }
 },
 "nbformat": 4,
 "nbformat_minor": 2
}
